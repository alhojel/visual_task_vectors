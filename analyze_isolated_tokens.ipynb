{
 "cells": [
  {
   "cell_type": "code",
   "execution_count": 2,
   "id": "4601c463",
   "metadata": {},
   "outputs": [
    {
     "name": "stderr",
     "output_type": "stream",
     "text": [
      "/usr/lib/python3/dist-packages/scipy/__init__.py:146: UserWarning: A NumPy version >=1.17.3 and <1.25.0 is required for this version of SciPy (detected version 1.26.2\n",
      "  warnings.warn(f\"A NumPy version >={np_minversion} and <{np_maxversion}\"\n"
     ]
    }
   ],
   "source": [
    "import h5py\n",
    "import torch\n",
    "import numpy as np\n",
    "import matplotlib.pyplot as plt\n",
    "import seaborn as sns\n",
    "from tqdm import tqdm\n"
   ]
  },
  {
   "cell_type": "code",
   "execution_count": 3,
   "id": "aa50c39e",
   "metadata": {},
   "outputs": [],
   "source": [
    "with h5py.File(\"/home/ahojel/visual_prompting_vid/output_dir/isolated_latents_new/dataset.hdf5\", 'r') as h5file: \n",
    "    encoder_metric_holder = []\n",
    "    first_element = next(iter(h5file.values()))\n",
    "    labels = list(first_element.keys())\n",
    "    "
   ]
  },
  {
   "cell_type": "code",
   "execution_count": 4,
   "id": "a3ec0ec5",
   "metadata": {},
   "outputs": [
    {
     "data": {
      "text/plain": [
       "['Baseline', 'left_half', 'one', 'three', 'top_half', 'two']"
      ]
     },
     "execution_count": 4,
     "metadata": {},
     "output_type": "execute_result"
    }
   ],
   "source": [
    "labels"
   ]
  },
  {
   "cell_type": "code",
   "execution_count": null,
   "id": "91e86e76",
   "metadata": {},
   "outputs": [],
   "source": [
    "labels = ['left_half', 'one', 'three', 'top_half', 'two']"
   ]
  },
  {
   "cell_type": "code",
   "execution_count": null,
   "id": "f61ecab2",
   "metadata": {},
   "outputs": [],
   "source": [
    "labels"
   ]
  },
  {
   "cell_type": "code",
   "execution_count": 17,
   "id": "967dcd1b",
   "metadata": {},
   "outputs": [
    {
     "name": "stderr",
     "output_type": "stream",
     "text": [
      "100%|██████████| 6/6 [00:03<00:00,  1.68it/s]\n"
     ]
    }
   ],
   "source": [
    "with h5py.File(\"/home/ahojel/visual_prompting_vid/output_dir/isolated_latents_new/dataset.hdf5\", 'r') as h5file: \n",
    "    delta_latent_holder = []\n",
    "    label_holder = []\n",
    "\n",
    "    for i in tqdm(range(len(labels))):\n",
    "        for pass_name, pass_group in h5file.items():\n",
    "            current_latent = pass_group[labels[i]]['latent'][1]\n",
    "            if labels[i] == \"top_half\":\n",
    "                delta_latent_holder.append(current_latent)\n",
    "                label_holder.append(\"avg\"+labels[i]+\"_unregularized\")\n",
    "                delta_latent = -current_latent + pass_group[\"Baseline\"]['latent'][1]\n",
    "            elif labels[i] != \"Baseline\":\n",
    "                delta_latent = -current_latent + pass_group[\"Baseline\"]['latent'][1]\n",
    "            else:\n",
    "                delta_latent = current_latent\n",
    "            delta_latent_holder.append(delta_latent)\n",
    "            label_holder.append(labels[i])\n",
    "\n",
    "    "
   ]
  },
  {
   "cell_type": "code",
   "execution_count": 18,
   "id": "2ae298e6",
   "metadata": {},
   "outputs": [
    {
     "data": {
      "text/plain": [
       "(1, 197, 512)"
      ]
     },
     "execution_count": 18,
     "metadata": {},
     "output_type": "execute_result"
    }
   ],
   "source": [
    "delta_latent_holder[0].shape"
   ]
  },
  {
   "cell_type": "code",
   "execution_count": 19,
   "id": "4fa3821c",
   "metadata": {},
   "outputs": [
    {
     "data": {
      "text/plain": [
       "(686, 1, 197, 512)"
      ]
     },
     "execution_count": 19,
     "metadata": {},
     "output_type": "execute_result"
    }
   ],
   "source": [
    "delta_latent_holder = np.array(delta_latent_holder)\n",
    "delta_latent_holder.shape"
   ]
  },
  {
   "cell_type": "code",
   "execution_count": 20,
   "id": "c7357e71",
   "metadata": {},
   "outputs": [],
   "source": [
    "avg_tensors = {}\n",
    "unique_labels = np.unique(label_holder)\n",
    "for label in unique_labels:\n",
    "    indices = [i for i, x in enumerate(label_holder) if x == label]\n",
    "    avg_tensor = np.mean([delta_latent_holder[i] for i in indices], axis=0)\n",
    "    avg_tensors[label] = avg_tensor\n"
   ]
  },
  {
   "cell_type": "code",
   "execution_count": 21,
   "id": "b99ac93b",
   "metadata": {},
   "outputs": [
    {
     "data": {
      "text/plain": [
       "dict_keys(['Baseline', 'avgtop_half_unregularized', 'left_half', 'one', 'three', 'top_half', 'two'])"
      ]
     },
     "execution_count": 21,
     "metadata": {},
     "output_type": "execute_result"
    }
   ],
   "source": [
    "avg_tensors.keys()"
   ]
  },
  {
   "cell_type": "code",
   "execution_count": 22,
   "id": "a3f8ecc7",
   "metadata": {},
   "outputs": [],
   "source": [
    "def calculate_quadrant_indices(rows, cols, quadrant):\n",
    "    \"\"\"\n",
    "    Calculate the start and end indices for each quadrant in the flattened tensor.\n",
    "    \"\"\"\n",
    "    row_start, row_end = 0, 7\n",
    "    col_start, col_end = 0, 7\n",
    "    \n",
    "    if quadrant == 2:  # Top Right\n",
    "        col_start, col_end = 7, 14\n",
    "    elif quadrant == 3:  # Bottom Left\n",
    "        row_start, row_end = 7, 14\n",
    "    elif quadrant == 4:  # Bottom Right\n",
    "        row_start, row_end = 7, 14\n",
    "        col_start, col_end = 7, 14\n",
    "\n",
    "    indices = []\n",
    "    for row in range(row_start, row_end):\n",
    "        for col in range(col_start, col_end):\n",
    "            index = row * rows + col\n",
    "            indices.append(index)\n",
    "    \n",
    "    return indices\n"
   ]
  },
  {
   "cell_type": "code",
   "execution_count": 23,
   "id": "61c9eb45",
   "metadata": {},
   "outputs": [
    {
     "data": {
      "text/plain": [
       "(1, 197, 512)"
      ]
     },
     "execution_count": 23,
     "metadata": {},
     "output_type": "execute_result"
    }
   ],
   "source": [
    "avg_tensors['Baseline'].shape"
   ]
  },
  {
   "cell_type": "code",
   "execution_count": 24,
   "id": "5568ab4e",
   "metadata": {},
   "outputs": [],
   "source": [
    "indices = [i for i, x in enumerate(label_holder) if x == \"Baseline\"]\n",
    "latent_subset = np.array([delta_latent_holder[i] for i in indices])\n",
    "\n",
    "# Find the element in latent subset which is closest to avg_tensors['label_Baseline']\n",
    "distances = np.linalg.norm(latent_subset - avg_tensors['Baseline'], axis=(2,3))\n",
    "closest_index = np.argmin(distances)\n",
    "closest_element = latent_subset[closest_index]\n",
    "avg_tensors[\"closest_baseline\"] = closest_element"
   ]
  },
  {
   "cell_type": "code",
   "execution_count": 25,
   "id": "db44523d",
   "metadata": {},
   "outputs": [],
   "source": [
    "indices = [i for i, x in enumerate(label_holder) if x == \"avgtop_half_unregularized\"]\n",
    "latent_subset = np.array([delta_latent_holder[i] for i in indices])\n",
    "\n",
    "# Find the element in latent subset which is closest to avg_tensors['avgtop_half_unregularized']\n",
    "# Find the element in latent subset which is closest to avg_tensors['label_Baseline']\n",
    "distances = np.linalg.norm(latent_subset - avg_tensors['avgtop_half_unregularized'], axis=(2,3))\n",
    "closest_index = np.argmin(distances)\n",
    "closest_element = latent_subset[closest_index]\n",
    "avg_tensors[\"closest_top_half\"] = closest_element"
   ]
  },
  {
   "cell_type": "code",
   "execution_count": 26,
   "id": "9b04d990",
   "metadata": {},
   "outputs": [],
   "source": [
    "avg_tensors[\"avg_baseline_top_half\"] = avg_tensors[\"Baseline\"]\n",
    "avg_tensors[\"closest_baseline_top_half\"] = avg_tensors[\"closest_baseline\"]"
   ]
  },
  {
   "cell_type": "code",
   "execution_count": 27,
   "id": "6554591f",
   "metadata": {},
   "outputs": [],
   "source": [
    "unique_labels = np.unique(label_holder+[\"closest_top_half\", \"avg_baseline_top_half\", \"closest_baseline_top_half\"])\n",
    "for label in unique_labels:\n",
    "    if label == \"Baseline\":\n",
    "        indices_to_keep = calculate_quadrant_indices(14, 14, 1) + calculate_quadrant_indices(14, 14, 2) + calculate_quadrant_indices(14, 14, 3) + calculate_quadrant_indices(14, 14, 4)\n",
    "    elif label == \"left_half\":\n",
    "        indices_to_keep = calculate_quadrant_indices(14, 14, 1) + calculate_quadrant_indices(14, 14, 3)\n",
    "    elif label == \"top_half\":\n",
    "        indices_to_keep = calculate_quadrant_indices(14, 14, 1) + calculate_quadrant_indices(14, 14, 2)\n",
    "    elif label == \"avg_baseline_top_half\":\n",
    "        indices_to_keep = calculate_quadrant_indices(14, 14, 1) + calculate_quadrant_indices(14, 14, 2)\n",
    "    elif label == \"closest_baseline_top_half\":\n",
    "        indices_to_keep = calculate_quadrant_indices(14, 14, 1) + calculate_quadrant_indices(14, 14, 2)\n",
    "    elif label == \"closest_top_half\":\n",
    "        indices_to_keep = calculate_quadrant_indices(14, 14, 1) + calculate_quadrant_indices(14, 14, 2)\n",
    "    elif label == \"one\":\n",
    "        indices_to_keep = calculate_quadrant_indices(14, 14, 1)\n",
    "    elif label == \"two\":\n",
    "        indices_to_keep = calculate_quadrant_indices(14, 14, 2)\n",
    "    elif label == \"three\":\n",
    "        indices_to_keep = calculate_quadrant_indices(14, 14, 3)\n",
    "        \n",
    "    # Create a zero tensor\n",
    "    zero_tensor = np.zeros_like(avg_tensors[label])\n",
    "    \n",
    "    # Replace the values at the indices_to_keep with the avg_tensor values\n",
    "    zero_tensor[:, indices_to_keep] = avg_tensors[label][:, indices_to_keep]\n",
    "    \n",
    "    # Assign the modified tensor back to avg_tensors\n",
    "    avg_tensors[label] = zero_tensor\n",
    "\n"
   ]
  },
  {
   "cell_type": "code",
   "execution_count": 28,
   "id": "01ea6f2a",
   "metadata": {},
   "outputs": [],
   "source": [
    "decoder_holder = avg_tensors"
   ]
  },
  {
   "cell_type": "code",
   "execution_count": 16,
   "id": "bd262e92",
   "metadata": {},
   "outputs": [],
   "source": [
    "neck_holder = avg_tensors"
   ]
  },
  {
   "cell_type": "code",
   "execution_count": 29,
   "id": "eddeb5fd",
   "metadata": {},
   "outputs": [],
   "source": [
    "holder = {\"neck\":neck_holder, \"decoder\":decoder_holder}\n"
   ]
  },
  {
   "cell_type": "code",
   "execution_count": 30,
   "id": "805b769b",
   "metadata": {},
   "outputs": [
    {
     "data": {
      "text/plain": [
       "dict_keys(['neck', 'decoder'])"
      ]
     },
     "execution_count": 30,
     "metadata": {},
     "output_type": "execute_result"
    }
   ],
   "source": [
    "holder.keys()"
   ]
  },
  {
   "cell_type": "code",
   "execution_count": 31,
   "id": "69b50c48",
   "metadata": {},
   "outputs": [],
   "source": [
    "import pickle\n",
    "\n",
    "# Save avg_tensors dictionary as a pickle file\n",
    "with open('vectors/isolated_tokens_new.pkl', 'wb') as file:\n",
    "    pickle.dump(holder, file)\n"
   ]
  },
  {
   "cell_type": "code",
   "execution_count": null,
   "id": "5e09b4dc",
   "metadata": {},
   "outputs": [],
   "source": []
  }
 ],
 "metadata": {
  "kernelspec": {
   "display_name": "Python 3",
   "language": "python",
   "name": "python3"
  },
  "language_info": {
   "codemirror_mode": {
    "name": "ipython",
    "version": 3
   },
   "file_extension": ".py",
   "mimetype": "text/x-python",
   "name": "python",
   "nbconvert_exporter": "python",
   "pygments_lexer": "ipython3",
   "version": "3.10.4"
  }
 },
 "nbformat": 4,
 "nbformat_minor": 5
}
